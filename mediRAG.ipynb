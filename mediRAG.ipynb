{
 "cells": [
  {
   "cell_type": "markdown",
   "metadata": {},
   "source": [
    "# mediRAG Pipeline"
   ]
  },
  {
   "cell_type": "code",
   "execution_count": 1,
   "metadata": {},
   "outputs": [],
   "source": [
    "import os\n",
    "import torch\n",
    "from prompts import *\n",
    "import evaluate\n",
    "from datasets import load_dataset\n",
    "from transformers import AutoModelForCausalLM, AutoTokenizer, BitsAndBytesConfig, pipeline\n",
    "from langchain.docstore.document import Document\n",
    "from langchain.vectorstores import FAISS\n",
    "from langchain.text_splitter import RecursiveCharacterTextSplitter\n",
    "from langchain.embeddings import HuggingFaceEmbeddings\n",
    "from langchain.llms import HuggingFacePipeline\n",
    "from langchain.prompts import PromptTemplate\n",
    "from langchain.embeddings.huggingface import HuggingFaceEmbeddings\n",
    "from langchain.chains import LLMChain\n",
    "from langchain.schema.runnable import RunnablePassthrough"
   ]
  },
  {
   "cell_type": "markdown",
   "metadata": {},
   "source": [
    "## Load Model and Tokenizer"
   ]
  },
  {
   "cell_type": "code",
   "execution_count": 2,
   "metadata": {},
   "outputs": [
    {
     "data": {
      "application/vnd.jupyter.widget-view+json": {
       "model_id": "b8f8b3e4f98046ffa0c51a17f4337786",
       "version_major": 2,
       "version_minor": 0
      },
      "text/plain": [
       "Loading checkpoint shards:   0%|          | 0/2 [00:00<?, ?it/s]"
      ]
     },
     "metadata": {},
     "output_type": "display_data"
    }
   ],
   "source": [
    "model_name='mistralai/Mistral-7B-Instruct-v0.1'\n",
    "\n",
    "tokenizer = AutoTokenizer.from_pretrained(model_name, cache_dir=\"models\")\n",
    "\n",
    "bnb_config = BitsAndBytesConfig(\n",
    "    load_in_4bit=True,\n",
    "    bnb_4bit_quant_type=\"nf4\",\n",
    "    bnb_4bit_compute_dtype=torch.bfloat16,\n",
    "    bnb_4bit_use_double_quant=False,\n",
    ")\n",
    "\n",
    "model = AutoModelForCausalLM.from_pretrained(\n",
    "    model_name,\n",
    "    quantization_config=bnb_config,\n",
    "    cache_dir=\"models\"\n",
    ")"
   ]
  },
  {
   "cell_type": "markdown",
   "metadata": {},
   "source": [
    "# Load Data"
   ]
  },
  {
   "cell_type": "code",
   "execution_count": 3,
   "metadata": {},
   "outputs": [
    {
     "data": {
      "text/plain": [
       "DatasetDict({\n",
       "    train: Dataset({\n",
       "        features: ['QUESTION', 'CONTEXTS', 'LABELS', 'MESHES', 'YEAR', 'reasoning_required_pred', 'reasoning_free_pred', 'final_decision', 'LONG_ANSWER'],\n",
       "        num_rows: 200000\n",
       "    })\n",
       "    validation: Dataset({\n",
       "        features: ['QUESTION', 'CONTEXTS', 'LABELS', 'MESHES', 'YEAR', 'reasoning_required_pred', 'reasoning_free_pred', 'final_decision', 'LONG_ANSWER'],\n",
       "        num_rows: 11269\n",
       "    })\n",
       "})"
      ]
     },
     "execution_count": 3,
     "metadata": {},
     "output_type": "execute_result"
    }
   ],
   "source": [
    "dataset = load_dataset(\"bigbio/pubmed_qa\", cache_dir=\"data\")\n",
    "\n",
    "dataset"
   ]
  },
  {
   "cell_type": "code",
   "execution_count": 4,
   "metadata": {},
   "outputs": [
    {
     "data": {
      "text/plain": [
       "Document(page_content='In previous work we (Fisher et al., 2011) examined the emergence of neurobehavioral disinhibition (ND) in adolescents with prenatal substance exposure. We computed ND factor scores at three age points (8/9, 11 and 13/14 years) and found that both prenatal substance exposure and early adversity predicted ND. The purpose of the current study was to determine the association between these ND scores and initiation of substance use between ages 8 and 16 in this cohort as early initiation of substance use has been related to later substance use disorders. Our hypothesis was that prenatal cocaine exposure predisposes the child to ND, which, in turn, is associated with initiation of substance use by age 16.')"
      ]
     },
     "execution_count": 4,
     "metadata": {},
     "output_type": "execute_result"
    }
   ],
   "source": [
    "page_content_column = \"CONTEXTS\"\n",
    "\n",
    "def preprocess(dataset):\n",
    "    for split in dataset.keys():\n",
    "        for contexts in dataset[split][page_content_column]:\n",
    "            for sentence in contexts:\n",
    "                yield Document(page_content=sentence)\n",
    "\n",
    "data = list(preprocess(dataset))  # 655055\n",
    "\n",
    "data[0]"
   ]
  },
  {
   "cell_type": "markdown",
   "metadata": {},
   "source": [
    "## Setting up FAISS"
   ]
  },
  {
   "cell_type": "code",
   "execution_count": 5,
   "metadata": {},
   "outputs": [],
   "source": [
    "embedding_model = \"BAAI/bge-large-en-v1.5\"\n",
    "model_kwargs = {'device':'cuda'}\n",
    "encode_kwargs = {'normalize_embeddings': False}\n",
    "\n",
    "# Initialize an instance of HuggingFaceEmbeddings with the specified parameters\n",
    "embeddings = HuggingFaceEmbeddings(\n",
    "    model_name=embedding_model,   \n",
    "    model_kwargs=model_kwargs,\n",
    "    encode_kwargs=encode_kwargs, \n",
    "    cache_folder=\"models\"\n",
    ")\n",
    "\n",
    "if os.path.exists(\"faiss_index_pubmed\"):\n",
    "    db = FAISS.load_local(\"faiss_index_pubmed\", embeddings)\n",
    "else:\n",
    "    text_splitter = RecursiveCharacterTextSplitter(chunk_size=1024, chunk_overlap=128)\n",
    "    docs = text_splitter.split_documents(data)  # 676307\n",
    "\n",
    "    db = FAISS.from_documents(docs, embeddings)\n",
    "    db.save_local(\"faiss_index_pubmed\")"
   ]
  },
  {
   "cell_type": "code",
   "execution_count": 6,
   "metadata": {},
   "outputs": [
    {
     "name": "stdout",
     "output_type": "stream",
     "text": [
      "Question:\n",
      "Does neurobehavioral disinhibition predict initiation of substance use in children with prenatal cocaine exposure?\n",
      "\n",
      "Context:\n",
      "['In previous work we (Fisher et al., 2011) examined the emergence of neurobehavioral disinhibition (ND) in adolescents with prenatal substance exposure. We computed ND factor scores at three age points (8/9, 11 and 13/14 years) and found that both prenatal substance exposure and early adversity predicted ND. The purpose of the current study was to determine the association between these ND scores and initiation of substance use between ages 8 and 16 in this cohort as early initiation of substance use has been related to later substance use disorders. Our hypothesis was that prenatal cocaine exposure predisposes the child to ND, which, in turn, is associated with initiation of substance use by age 16.', \"We studied 386 cocaine exposed and 517 unexposed children followed since birth in a longitudinal study. Five dichotomous variables were computed based on the subject's report of substance use: alcohol only; tobacco only; marijuana only; illicit substances and any substance.\", 'Cox proportional hazard regression showed that the 8/9 year ND score was related to initiation of alcohol, tobacco, illicit and any substance use but not marijuana use. The trajectory of ND across the three age periods was related to substance use initiation in all five substance use categories. Prenatal cocaine exposure, although initially related to tobacco, marijuana and illicit substance initiation, was no longer significant with ND scores in the models.']\n",
      "\n",
      "Retrieved document:\n",
      "In previous work we (Fisher et al., 2011) examined the emergence of neurobehavioral disinhibition (ND) in adolescents with prenatal substance exposure. We computed ND factor scores at three age points (8/9, 11 and 13/14 years) and found that both prenatal substance exposure and early adversity predicted ND. The purpose of the current study was to determine the association between these ND scores and initiation of substance use between ages 8 and 16 in this cohort as early initiation of substance use has been related to later substance use disorders. Our hypothesis was that prenatal cocaine exposure predisposes the child to ND, which, in turn, is associated with initiation of substance use by age 16.\n"
     ]
    }
   ],
   "source": [
    "question = dataset['train'][\"QUESTION\"][0]\n",
    "context = dataset['train'][\"CONTEXTS\"][0]\n",
    "\n",
    "retrieved_docs = db.similarity_search(question)  # db.similarity_search_with_score(question)\n",
    "\n",
    "print(f\"Question:\\n{question}\")\n",
    "print(f\"\\nContext:\\n{context}\")\n",
    "print(f\"\\nRetrieved document:\\n{retrieved_docs[0].page_content}\")"
   ]
  },
  {
   "cell_type": "markdown",
   "metadata": {},
   "source": [
    "## Initializing Pipeline\n"
   ]
  },
  {
   "cell_type": "code",
   "execution_count": 7,
   "metadata": {},
   "outputs": [],
   "source": [
    "text_generation_pipeline = pipeline(\n",
    "    model=model,\n",
    "    tokenizer=tokenizer,\n",
    "    task=\"text-generation\",\n",
    "    max_new_tokens=300,\n",
    "    do_sample=False,\n",
    ")\n",
    "\n",
    "mistral_llm = HuggingFacePipeline(pipeline=text_generation_pipeline)\n",
    "\n",
    "# Create prompt from prompt template \n",
    "prompt = PromptTemplate(\n",
    "    input_variables=[\"context\", \"question\"],\n",
    "    template=PROMPT_TEMPLATE_QA_EXPLAINER,\n",
    ")\n",
    "\n",
    "# Create llm chain \n",
    "llm_chain = LLMChain(llm=mistral_llm, prompt=prompt)"
   ]
  },
  {
   "cell_type": "markdown",
   "metadata": {},
   "source": [
    "## Running Queries"
   ]
  },
  {
   "cell_type": "code",
   "execution_count": 8,
   "metadata": {},
   "outputs": [],
   "source": [
    "question = dataset['train'][0][\"QUESTION\"]\n",
    "context = dataset['train'][0][\"CONTEXTS\"]\n",
    "long_answer = dataset['train'][0][\"LONG_ANSWER\"]\n",
    "final_decision = dataset['train'][0][\"final_decision\"]"
   ]
  },
  {
   "cell_type": "code",
   "execution_count": 9,
   "metadata": {},
   "outputs": [
    {
     "name": "stderr",
     "output_type": "stream",
     "text": [
      "The attention mask and the pad token id were not set. As a consequence, you may observe unexpected behavior. Please pass your input's `attention_mask` to obtain reliable results.\n",
      "Setting `pad_token_id` to `eos_token_id`:2 for open-end generation.\n"
     ]
    },
    {
     "data": {
      "text/plain": [
       "'\\n\\nAbstract:\\n\\nBackground: Neurobehavioral disinhibition (NBD) is a neurodevelopmental disorder characterized by impulsivity, hyperactivity, and poor inhibitory control. It has been linked to prenatal cocaine exposure (PCE) and has been proposed as a risk factor for substance use initiation. However, there is limited research on whether NBD predicts substance use initiation in children with PCE.\\n\\nMethods: This study examined whether NBD predicted substance use initiation in a sample of children with PCE. Participants were recruited from a longitudinal study of children born to cocaine-using mothers. NBD was assessed using the Behavior Rating Inventory of Executive Function (BRIEF) at age 5 and substance use was assessed using self-report questionnaires at age 12. Logistic regression analyses were conducted to examine the relationship between NBD and substance use initiation.\\n\\nResults: The sample included 100 children with PCE and 100 children without PCE. NBD was significantly higher in the PCE group compared to the non-PCE group at age 5 (t(199) = 2.50, p < .05). Logistic regression analyses revealed that NBD predicted substance use initiation in the PCE group (OR = 1.40, 9'"
      ]
     },
     "execution_count": 9,
     "metadata": {},
     "output_type": "execute_result"
    }
   ],
   "source": [
    "# QA without retrieval \n",
    "input_ids = tokenizer.encode(question, return_tensors=\"pt\").to(\"cuda\")\n",
    "\n",
    "with torch.no_grad():\n",
    "    output = model.generate(\n",
    "        input_ids=input_ids,\n",
    "        do_sample=False,\n",
    "        return_dict_in_generate=True,\n",
    "        max_new_tokens=300,\n",
    "    )\n",
    "\n",
    "output = tokenizer.decode(output.sequences[0][len(input_ids[0]):])\n",
    "\n",
    "output"
   ]
  },
  {
   "cell_type": "code",
   "execution_count": 10,
   "metadata": {},
   "outputs": [
    {
     "name": "stderr",
     "output_type": "stream",
     "text": [
      "Setting `pad_token_id` to `eos_token_id`:2 for open-end generation.\n"
     ]
    },
    {
     "data": {
      "text/plain": [
       "{'context': [Document(page_content='In previous work we (Fisher et al., 2011) examined the emergence of neurobehavioral disinhibition (ND) in adolescents with prenatal substance exposure. We computed ND factor scores at three age points (8/9, 11 and 13/14 years) and found that both prenatal substance exposure and early adversity predicted ND. The purpose of the current study was to determine the association between these ND scores and initiation of substance use between ages 8 and 16 in this cohort as early initiation of substance use has been related to later substance use disorders. Our hypothesis was that prenatal cocaine exposure predisposes the child to ND, which, in turn, is associated with initiation of substance use by age 16.'),\n",
       "  Document(page_content='The authors derived an index of neurobehavioral disinhibition from measures of affect, behavior, and cognition. The neurobehavioral disinhibition score was used to discriminate youth at high and low average risk for substance use disorder and to predict substance use frequency after 4-6 years and substance use disorder after 7-9 years.'),\n",
       "  Document(page_content='This longitudinal study had three aims: 1) determine the extent to which boys at high average risk and low average risk for substance use disorder differ on a construct of neurobehavioral disinhibition, 2) evaluate the capacity of neurobehavioral disinhibition to predict substance use frequency at age 16, and 3) demonstrate the utility of neurobehavioral disinhibition in predicting substance use disorder.')],\n",
       " 'question': 'Does neurobehavioral disinhibition predict initiation of substance use in children with prenatal cocaine exposure?',\n",
       " 'text': ' The provided context discusses a study that examined the relationship between neurobehavioral disinhibition (ND) and initiation of substance use in children with prenatal substance exposure. The study used an index of ND derived from measures of affect, behavior, and cognition to discriminate youth at high and low average risk for substance use disorder and to predict substance use frequency and disorder after several years.\\n\\nThe purpose of the study was to determine the association between ND scores and initiation of substance use between ages 8 and 16 in a cohort of children with prenatal substance exposure. The hypothesis was that prenatal cocaine exposure predisposes the child to ND, which, in turn, is associated with initiation of substance use by age 16.\\n\\nThe study found that both prenatal substance exposure and early adversity predicted ND. However, the relationship between ND and initiation of substance use was not explicitly examined in the provided context. Therefore, it is not clear whether ND predicts initiation of substance use in children with prenatal cocaine exposure based on the information provided.'}"
      ]
     },
     "execution_count": 10,
     "metadata": {},
     "output_type": "execute_result"
    }
   ],
   "source": [
    "retriever = db.as_retriever(\n",
    "    search_type=\"similarity\",\n",
    "    search_kwargs={'k': 3}\n",
    ")\n",
    "\n",
    "# retriever = db.as_retriever(search_type=\"similarity_score_threshold\", \n",
    "#                                  search_kwargs={\"score_threshold\": .5, \n",
    "#                                                 \"k\": top_k})\n",
    "\n",
    "rag_chain = ({\"context\": retriever, \"question\": RunnablePassthrough()} | llm_chain)\n",
    "\n",
    "# QA with retrieval\n",
    "qa_retrieval_result = rag_chain.invoke(question)\n",
    "\n",
    "qa_retrieval_result"
   ]
  },
  {
   "cell_type": "markdown",
   "metadata": {},
   "source": [
    "# Evaluation"
   ]
  },
  {
   "cell_type": "code",
   "execution_count": 11,
   "metadata": {},
   "outputs": [
    {
     "name": "stdout",
     "output_type": "stream",
     "text": [
      "BLEU Score: {'bleu': 0.0150853715603116, 'precisions': [0.05741626794258373, 0.019230769230769232, 0.00966183574879227, 0.0048543689320388345], 'brevity_penalty': 1.0, 'length_ratio': 9.08695652173913, 'translation_length': 209, 'reference_length': 23}\n",
      "BLEU Score: {'bleu': 0.01746600805465613, 'precisions': [0.07853403141361257, 0.021052631578947368, 0.010582010582010581, 0.005319148936170213], 'brevity_penalty': 1.0, 'length_ratio': 8.304347826086957, 'translation_length': 191, 'reference_length': 23}\n"
     ]
    }
   ],
   "source": [
    "bleu = evaluate.load(\"bleu\", cache_dir=\"evaluation_metrics\")\n",
    "\n",
    "bleu_score = bleu.compute(predictions=[output], references=[long_answer])\n",
    "print(f\"BLEU Score: {bleu_score}\")\n",
    "\n",
    "bleu_score = bleu.compute(predictions=[qa_retrieval_result[\"text\"]], references=[long_answer])\n",
    "print(f\"BLEU Score: {bleu_score}\")"
   ]
  },
  {
   "cell_type": "code",
   "execution_count": 12,
   "metadata": {},
   "outputs": [
    {
     "name": "stderr",
     "output_type": "stream",
     "text": [
      "Some weights of RobertaModel were not initialized from the model checkpoint at roberta-large and are newly initialized: ['roberta.pooler.dense.weight', 'roberta.pooler.dense.bias']\n",
      "You should probably TRAIN this model on a down-stream task to be able to use it for predictions and inference.\n"
     ]
    },
    {
     "name": "stdout",
     "output_type": "stream",
     "text": [
      "BERTScore: {'precision': [0.7908798456192017], 'recall': [0.853207528591156], 'f1': [0.8208622932434082], 'hashcode': 'roberta-large_L17_no-idf_version=0.3.12(hug_trans=4.35.1)'}\n",
      "BERTScore: {'precision': [0.8336621522903442], 'recall': [0.8714827299118042], 'f1': [0.8521530032157898], 'hashcode': 'roberta-large_L17_no-idf_version=0.3.12(hug_trans=4.35.1)'}\n"
     ]
    }
   ],
   "source": [
    "bertscore = evaluate.load(\"bertscore\", cache_dir=\"evaluation_metrics\")\n",
    "\n",
    "bert_score = bertscore.compute(predictions=[output], references=[long_answer], lang=\"en\")\n",
    "print(f\"BERTScore: {bert_score}\")\n",
    "\n",
    "bert_score = bertscore.compute(predictions=[qa_retrieval_result[\"text\"]], references=[long_answer], lang=\"en\")\n",
    "print(f\"BERTScore: {bert_score}\")"
   ]
  },
  {
   "cell_type": "code",
   "execution_count": null,
   "metadata": {},
   "outputs": [],
   "source": []
  }
 ],
 "metadata": {
  "kernelspec": {
   "display_name": "rag",
   "language": "python",
   "name": "python3"
  },
  "language_info": {
   "codemirror_mode": {
    "name": "ipython",
    "version": 3
   },
   "file_extension": ".py",
   "mimetype": "text/x-python",
   "name": "python",
   "nbconvert_exporter": "python",
   "pygments_lexer": "ipython3",
   "version": "3.11.0"
  }
 },
 "nbformat": 4,
 "nbformat_minor": 2
}
